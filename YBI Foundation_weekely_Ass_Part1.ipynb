{
 "cells": [
  {
   "cell_type": "code",
   "execution_count": 1,
   "id": "e2d2560b",
   "metadata": {},
   "outputs": [
    {
     "name": "stdout",
     "output_type": "stream",
     "text": [
      "1. First five rows of the CSV file:\n",
      "   pclass  survived                                             name     sex  \\\n",
      "0       1         1                    Allen, Miss. Elisabeth Walton  female   \n",
      "1       1         1                   Allison, Master. Hudson Trevor    male   \n",
      "2       1         0                     Allison, Miss. Helen Loraine  female   \n",
      "3       1         0             Allison, Mr. Hudson Joshua Creighton    male   \n",
      "4       1         0  Allison, Mrs. Hudson J C (Bessie Waldo Daniels)  female   \n",
      "\n",
      "     age  sibsp  parch  ticket      fare    cabin embarked boat   body  \\\n",
      "0  29.00      0      0   24160  211.3375       B5        S    2    NaN   \n",
      "1   0.92      1      2  113781  151.5500  C22 C26        S   11    NaN   \n",
      "2   2.00      1      2  113781  151.5500  C22 C26        S  NaN    NaN   \n",
      "3  30.00      1      2  113781  151.5500  C22 C26        S  NaN  135.0   \n",
      "4  25.00      1      2  113781  151.5500  C22 C26        S  NaN    NaN   \n",
      "\n",
      "                         home.dest  \n",
      "0                     St Louis, MO  \n",
      "1  Montreal, PQ / Chesterville, ON  \n",
      "2  Montreal, PQ / Chesterville, ON  \n",
      "3  Montreal, PQ / Chesterville, ON  \n",
      "4  Montreal, PQ / Chesterville, ON  \n"
     ]
    }
   ],
   "source": [
    "#1. Read CSV file and view first five rows:-\n",
    "\n",
    "import pandas as pd\n",
    "\n",
    "# Load CSV file\n",
    "csv_url = \"https://github.com/YBIFoundation/Dataset/raw/main/Titanic.csv\"\n",
    "titanic_df_csv = pd.read_csv(csv_url)\n",
    "\n",
    "# Display first five rows\n",
    "print(\"1. First five rows of the CSV file:\")\n",
    "print(titanic_df_csv.head())"
   ]
  },
  {
   "cell_type": "code",
   "execution_count": 2,
   "id": "4e6a2f88",
   "metadata": {},
   "outputs": [
    {
     "name": "stdout",
     "output_type": "stream",
     "text": [
      "\n",
      "2. Summary statistics of the Excel file:\n",
      "            pclass     survived          age        sibsp        parch  \\\n",
      "count  1309.000000  1309.000000  1046.000000  1309.000000  1309.000000   \n",
      "mean      2.294882     0.381971    29.881138     0.498854     0.385027   \n",
      "std       0.837836     0.486055    14.413493     1.041658     0.865560   \n",
      "min       1.000000     0.000000     0.170000     0.000000     0.000000   \n",
      "25%       2.000000     0.000000    21.000000     0.000000     0.000000   \n",
      "50%       3.000000     0.000000    28.000000     0.000000     0.000000   \n",
      "75%       3.000000     1.000000    39.000000     1.000000     0.000000   \n",
      "max       3.000000     1.000000    80.000000     8.000000     9.000000   \n",
      "\n",
      "              fare        body  \n",
      "count  1308.000000  121.000000  \n",
      "mean     33.295479  160.809917  \n",
      "std      51.758668   97.696922  \n",
      "min       0.000000    1.000000  \n",
      "25%       7.895800   72.000000  \n",
      "50%      14.454200  155.000000  \n",
      "75%      31.275000  256.000000  \n",
      "max     512.329200  328.000000  \n"
     ]
    }
   ],
   "source": [
    "#2. Read excel file and view summary statistics:-\n",
    "\n",
    "# Load Excel file\n",
    "excel_url = \"https://github.com/YBIFoundation/Dataset/raw/main/Titanic.xlsx\"\n",
    "titanic_df_excel = pd.read_excel(excel_url)\n",
    "\n",
    "# Display summary statistics\n",
    "print(\"\\n2. Summary statistics of the Excel file:\")\n",
    "print(titanic_df_excel.describe())"
   ]
  },
  {
   "cell_type": "code",
   "execution_count": 3,
   "id": "02fc4ab7",
   "metadata": {},
   "outputs": [
    {
     "name": "stdout",
     "output_type": "stream",
     "text": [
      "\n",
      "3. Information of the semicolon-separated file:\n",
      "<class 'pandas.core.frame.DataFrame'>\n",
      "RangeIndex: 101 entries, 0 to 100\n",
      "Data columns (total 14 columns):\n",
      " #   Column     Non-Null Count  Dtype  \n",
      "---  ------     --------------  -----  \n",
      " 0   pclass     101 non-null    int64  \n",
      " 1   survived   101 non-null    int64  \n",
      " 2   name       101 non-null    object \n",
      " 3   sex        101 non-null    object \n",
      " 4   age        92 non-null     float64\n",
      " 5   sibsp      101 non-null    int64  \n",
      " 6   parch      101 non-null    int64  \n",
      " 7   ticket     101 non-null    object \n",
      " 8   fare       101 non-null    float64\n",
      " 9   cabin      82 non-null     object \n",
      " 10  embarked   101 non-null    object \n",
      " 11  boat       69 non-null     object \n",
      " 12  body       8 non-null      float64\n",
      " 13  home.dest  91 non-null     object \n",
      "dtypes: float64(3), int64(4), object(7)\n",
      "memory usage: 11.2+ KB\n",
      "None\n"
     ]
    }
   ],
   "source": [
    "#3. Read semicolon separated file and view information:-\n",
    "\n",
    "# Load semicolon-separated file\n",
    "semicolon_url = \"https://github.com/YBIFoundation/Dataset/raw/main/Titanic%20Semicolon.csv\"\n",
    "titanic_df_semicolon = pd.read_csv(semicolon_url, sep=';')\n",
    "\n",
    "# Display information\n",
    "print(\"\\n3. Information of the semicolon-separated file:\")\n",
    "print(titanic_df_semicolon.info())"
   ]
  },
  {
   "cell_type": "code",
   "execution_count": 4,
   "id": "64ed5dbe",
   "metadata": {},
   "outputs": [
    {
     "name": "stdout",
     "output_type": "stream",
     "text": [
      "\n",
      "4. JSON file as a pandas data frame:\n",
      "      pclass  survived                                             name  \\\n",
      "0          1         1                    Allen, Miss. Elisabeth Walton   \n",
      "1          1         1                   Allison, Master. Hudson Trevor   \n",
      "2          1         0                     Allison, Miss. Helen Loraine   \n",
      "3          1         0             Allison, Mr. Hudson Joshua Creighton   \n",
      "4          1         0  Allison, Mrs. Hudson J C (Bessie Waldo Daniels)   \n",
      "...      ...       ...                                              ...   \n",
      "1304       3         0                             Zabour, Miss. Hileni   \n",
      "1305       3         0                            Zabour, Miss. Thamine   \n",
      "1306       3         0                        Zakarian, Mr. Mapriededer   \n",
      "1307       3         0                              Zakarian, Mr. Ortin   \n",
      "1308       3         0                               Zimmerman, Mr. Leo   \n",
      "\n",
      "         sex   age  sibsp  parch  ticket      fare    cabin embarked boat  \\\n",
      "0     female    29      0      0   24160  211.3375       B5        S    2   \n",
      "1       male  0.92      1      2  113781    151.55  C22 C26        S   11   \n",
      "2     female     2      1      2  113781    151.55  C22 C26        S        \n",
      "3       male    30      1      2  113781    151.55  C22 C26        S        \n",
      "4     female    25      1      2  113781    151.55  C22 C26        S        \n",
      "...      ...   ...    ...    ...     ...       ...      ...      ...  ...   \n",
      "1304  female  14.5      1      0    2665   14.4542                 C        \n",
      "1305  female            1      0    2665   14.4542                 C        \n",
      "1306    male  26.5      0      0    2656     7.225                 C        \n",
      "1307    male    27      0      0    2670     7.225                 C        \n",
      "1308    male    29      0      0  315082     7.875                 S        \n",
      "\n",
      "     body                        home.dest  \n",
      "0                             St Louis, MO  \n",
      "1          Montreal, PQ / Chesterville, ON  \n",
      "2          Montreal, PQ / Chesterville, ON  \n",
      "3     135  Montreal, PQ / Chesterville, ON  \n",
      "4          Montreal, PQ / Chesterville, ON  \n",
      "...   ...                              ...  \n",
      "1304  328                                   \n",
      "1305                                        \n",
      "1306  304                                   \n",
      "1307                                        \n",
      "1308                                        \n",
      "\n",
      "[1309 rows x 14 columns]\n"
     ]
    }
   ],
   "source": [
    "#4. Read json (JavaScript Object Notation) file as pandas data frame:-\n",
    "\n",
    "# Load JSON file\n",
    "json_url = \"https://github.com/YBIFoundation/Dataset/raw/main/Titanic.json\"\n",
    "titanic_df_json = pd.read_json(json_url)\n",
    "\n",
    "# Display the JSON file as a data frame\n",
    "print(\"\\n4. JSON file as a pandas data frame:\")\n",
    "print(titanic_df_json)"
   ]
  },
  {
   "cell_type": "code",
   "execution_count": null,
   "id": "38ba9f95",
   "metadata": {},
   "outputs": [],
   "source": []
  }
 ],
 "metadata": {
  "kernelspec": {
   "display_name": "Python 3 (ipykernel)",
   "language": "python",
   "name": "python3"
  },
  "language_info": {
   "codemirror_mode": {
    "name": "ipython",
    "version": 3
   },
   "file_extension": ".py",
   "mimetype": "text/x-python",
   "name": "python",
   "nbconvert_exporter": "python",
   "pygments_lexer": "ipython3",
   "version": "3.11.5"
  }
 },
 "nbformat": 4,
 "nbformat_minor": 5
}
